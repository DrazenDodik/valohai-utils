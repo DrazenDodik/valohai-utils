{
 "cells": [
  {
   "cell_type": "code",
   "execution_count": null,
   "metadata": {},
   "outputs": [],
   "source": [
    "import valohai"
   ]
  },
  {
   "cell_type": "code",
   "execution_count": null,
   "metadata": {},
   "outputs": [],
   "source": [
    "params = {\n",
    "    \"iterations\": 500,\n",
    "    \"learning-rate\": 0.001,\n",
    "}\n",
    "\n",
    "inputs = {\n",
    "    \"my-optional-input\": \"\"\n",
    "}"
   ]
  },
  {
   "cell_type": "code",
   "execution_count": null,
   "metadata": {},
   "outputs": [],
   "source": [
    "valohai.prepare(step=\"train\", default_parameters=params, default_inputs=inputs, image=\"valohai/pypermill\")"
   ]
  },
  {
   "cell_type": "code",
   "execution_count": null,
   "metadata": {},
   "outputs": [],
   "source": [
    "from time import sleep\n",
    "import json\n",
    "\n",
    "for i in range(valohai.parameters(\"iterations\").value):\n",
    "    print(json.dumps({'accuracy': round(0.5+(i/126.4), 3), 'loss': round((50-i)*(50-i)/100.1, 3)}))\n",
    "    sleep(0.33)"
   ]
  }
 ],
 "metadata": {
  "kernelspec": {
   "display_name": "Python 3",
   "language": "python",
   "name": "python3"
  },
  "language_info": {
   "codemirror_mode": {
    "name": "ipython",
    "version": 3
   },
   "file_extension": ".py",
   "mimetype": "text/x-python",
   "name": "python",
   "nbconvert_exporter": "python",
   "pygments_lexer": "ipython3",
   "version": "3.6.7"
  }
 },
 "nbformat": 4,
 "nbformat_minor": 4
}
